{
 "cells": [
  {
   "cell_type": "markdown",
   "id": "4efeef11-999b-4321-bfd1-9ee5e9560a42",
   "metadata": {},
   "source": [
    "<h2>Vale 3 - Analise de Sentimento no Twitter</h2>\n",
    "\n",
    "<p>Para criar um modelo de machine learning que analise a tendência de alta ou baixa da ação VALE3 (Vale S.A.) com base em tweets, você precisará seguir algumas etapas. No entanto, é importante notar que a análise de sentimentos em redes sociais é apenas um dos muitos fatores que podem influenciar o mercado de ações, e os resultados devem ser interpretados com cautela. Aqui está um esboço geral do processo:</p>\n",
    "\n",
    "<ol>\n",
    "    <li><strong>Coleta de Dados</strong>\n",
    "        <ul>\n",
    "            <li><strong>Twitter API</strong>: Utilize a API do Twitter para coletar tweets relacionados à ação VALE3. Você precisará de uma conta de desenvolvedor no Twitter para acessar a API.</li>\n",
    "            <li><strong>Palavras-chave</strong>: Defina palavras-chave relevantes para a busca, como \"VALE3\", \"Vale\", \"mercado de ações\", etc.</li>\n",
    "        </ul>\n",
    "    </li>\n",
    "    <li><strong>Pré-processamento dos Dados</strong>\n",
    "        <ul>\n",
    "            <li><strong>Limpeza</strong>: Remova URLs, menções, hashtags e caracteres especiais dos tweets.</li>\n",
    "            <li><strong>Tokenização</strong>: Divida os textos em palavras ou frases.</li>\n",
    "            <li><strong>Normalização</strong>: Converta o texto para minúsculas, remova acentuações, etc.</li>\n",
    "        </ul>\n",
    "    </li>\n",
    "    <li><strong>Análise de Sentimento</strong>\n",
    "        <ul>\n",
    "            <li><strong>Modelos de NLP</strong>: Utilize modelos de processamento de linguagem natural (NLP) para analisar o sentimento dos tweets. Modelos como BERT, TextBlob ou VADER podem ser úteis.</li>\n",
    "            <li><strong>Classificação</strong>: Classifique os tweets como positivos, negativos ou neutros.</li>\n",
    "        </ul>\n",
    "    </li>\n",
    "    <li><strong>Análise e Interpretação</strong>\n",
    "        <ul>\n",
    "            <li><strong>Tendências</strong>: Analise a proporção de sentimentos positivos e negativos para estimar uma tendência de alta ou baixa.</li>\n",
    "            <li><strong>Contexto</strong>: Considere o contexto dos tweets. Às vezes, um tweet negativo pode não estar diretamente relacionado ao desempenho da ação.</li>\n",
    "        </ul>\n",
    "    </li>\n",
    "    <li><strong>Integração com Dados de Mercado</strong>\n",
    "        <ul>\n",
    "            <li><strong>Dados Históricos</strong>: Compare suas análises de sentimentos com os dados históricos de preço da ação para validar a eficácia do modelo.</li>\n",
    "        </ul>\n",
    "    </li>\n",
    "    <li><strong>Considerações Éticas e Legais</strong>\n",
    "        <ul>\n",
    "            <li><strong>Privacidade e Ética</strong>: Certifique-se de seguir as diretrizes éticas e legais ao usar dados de redes sociais.</li>\n",
    "            <li><strong>Limitações</strong>: Esteja ciente das limitações e incertezas associadas à análise de sentimentos e ao mercado de ações.</li>\n",
    "        </ul>\n",
    "    </li>\n",
    "</ol>\n",
    "\n",
    "\n",
    "<h2>Análise de Palavras-Chave para Ação VALE3</h2>\n",
    "<p>A análise do documento PDF forneceu várias informações relevantes sobre a ação VALE3 (Vale S.A.). Aqui estão as principais palavras-chave e temas identificados que podem ser úteis para coletar e analisar tweets relacionados à VALE3:</p>\n",
    "<ul>\n",
    "    <li><strong>Siderurgia & Mineração</strong>: Este tema é recorrente e indica a importância do setor de mineração e siderurgia no contexto da VALE3.</li>\n",
    "    <li><strong>Desempenho de Preços</strong>: Há várias menções ao desempenho de preços da ação VALE3, o que sugere que este é um tópico de interesse significativo.</li>\n",
    "    <li><strong>Comparação com Pares</strong>: O documento faz comparações entre a VALE3 e outras empresas do setor, como CSN e Gerdau. Isso pode ser relevante para entender a posição da VALE3 no mercado.</li>\n",
    "    <li><strong>Minério de Ferro e Cobre</strong>: Há discussões sobre os preços do minério de ferro e cobre, indicando a relevância dessas commodities para a VALE3.</li>\n",
    "    <li><strong>Análise de Mercado e Investimento</strong>: O documento contém análises de mercado e recomendações de investimento, o que pode ser um ponto de interesse para análises de sentimentos.</li>\n",
    "    <li><strong>EBITDA e Resultados Financeiros</strong>: Menções a EBITDA e outros resultados financeiros são frequentes, refletindo a importância desses indicadores para a avaliação da empresa.</li>\n",
    "    <li><strong>Riscos e Projeções</strong>: O documento aborda riscos e projeções para a VALE3, o que pode ser um tópico relevante para análises futuras.</li>\n",
    "</ul>\n",
    "\n",
    "\n",
    "\n",
    "\n"
   ]
  },
  {
   "cell_type": "code",
   "execution_count": null,
   "metadata": {},
   "outputs": [],
   "source": [
    "#!pip install tweepy"
   ]
  },
  {
   "cell_type": "code",
   "execution_count": 13,
   "id": "250bbdcd-671d-4dcb-a978-ffc016062b60",
   "metadata": {},
   "outputs": [],
   "source": [
    "import tweepy\n",
    "from textblob import TextBlob\n",
    "\n",
    "import requests\n",
    "import os\n",
    "import json"
   ]
  },
  {
   "cell_type": "markdown",
   "metadata": {},
   "source": [
    "<h3> Autenticação com a API do Twitter </h3>"
   ]
  },
  {
   "cell_type": "code",
   "execution_count": 11,
   "metadata": {},
   "outputs": [],
   "source": [
    "# #########################################################################\n",
    "#               API Key e API Secret Key \n",
    "############################################################################\n",
    "API_Key = 'jd6Du8Nr80i1UZNXxlweUBe5Q'\n",
    "API_Key_Secret = 'TDt3yAORrIec1XPXXhIdwykPonwXHVr9oNOCpqSpquNPNQECt2'\n",
    "\n",
    "################################################################################\n",
    "# Bearer Token\n",
    "#AAAAAAAAAAAAAAAAAAAAACfrwAAAAAAAi2B8wQy4Jc3nf911pFIjLFaEzgU%3DMNVefI3Bq9CXQqzSOb5RejGkpfQ4h9exOmkjWxeme2iNRMXLKM\n",
    "\n",
    "BEARER_TOKEN = 'AAAAAAAAAAAAAAAAAAAAACfrwAAAAAAAi2B8wQy4Jc3nf911pFIjLFaEzgU%3DMNVefI3Bq9CXQqzSOb5RejGkpfQ4h9exOmkjWxeme2iNRMXLKM'\n",
    "\n",
    "# #########################################################################\n",
    "#               Access Token and Access Token Secret\n",
    "############################################################################\n",
    "access_token = '389141505-F0q5bGkIrqWlKYKngI5jWSTyCVD3RUyiuwjh6HmB'\n",
    "access_token_secret = 'C6CirffqFpt8E1EWTmWcPa9IqNJO9zLZYGT6vuWFOo3Sv'\n",
    "\n",
    "auth = tweepy.OAuthHandler(API_Key, consumer_secret)\n",
    "auth.set_access_token(access_token, access_token_secret)\n",
    "\n",
    "api = tweepy.API(auth)\n",
    "\n"
   ]
  },
  {
   "cell_type": "code",
   "execution_count": 14,
   "metadata": {},
   "outputs": [],
   "source": [
    "bearer_token = os.environ.get(\"BEARER_TOKEN\")"
   ]
  },
  {
   "cell_type": "code",
   "execution_count": 18,
   "metadata": {},
   "outputs": [],
   "source": [
    "search_url = \"https://api.twitter.com/2/tweets/search/recent\""
   ]
  },
  {
   "cell_type": "code",
   "execution_count": 20,
   "metadata": {},
   "outputs": [],
   "source": [
    "query_params = {'query': '(from:twitterdev -is:retweet) OR #twitterdev','tweet.fields': 'author_id'}"
   ]
  },
  {
   "cell_type": "code",
   "execution_count": 21,
   "metadata": {},
   "outputs": [],
   "source": [
    "def bearer_oauth(r):\n",
    "    \"\"\"\n",
    "    Method required by bearer token authentication.\n",
    "    \"\"\"\n",
    "\n",
    "    r.headers[\"Authorization\"] = f\"Bearer {bearer_token}\"\n",
    "    r.headers[\"User-Agent\"] = \"v2RecentSearchPython\"\n",
    "    return r\n"
   ]
  },
  {
   "cell_type": "code",
   "execution_count": 22,
   "metadata": {},
   "outputs": [],
   "source": [
    "def connect_to_endpoint(url, params):\n",
    "    response = requests.get(url, auth=bearer_oauth, params=params)\n",
    "    print(response.status_code)\n",
    "    if response.status_code != 200:\n",
    "        raise Exception(response.status_code, response.text)\n",
    "    return response.json()"
   ]
  },
  {
   "cell_type": "code",
   "execution_count": 23,
   "metadata": {},
   "outputs": [],
   "source": [
    "def main():\n",
    "    json_response = connect_to_endpoint(search_url, query_params)\n",
    "    print(json.dumps(json_response, indent=4, sort_keys=True))"
   ]
  },
  {
   "cell_type": "code",
   "execution_count": 24,
   "metadata": {},
   "outputs": [
    {
     "name": "stdout",
     "output_type": "stream",
     "text": [
      "401\n"
     ]
    },
    {
     "ename": "Exception",
     "evalue": "(401, '{\\n  \"title\": \"Unauthorized\",\\n  \"type\": \"about:blank\",\\n  \"status\": 401,\\n  \"detail\": \"Unauthorized\"\\n}')",
     "output_type": "error",
     "traceback": [
      "\u001b[1;31m---------------------------------------------------------------------------\u001b[0m",
      "\u001b[1;31mException\u001b[0m                                 Traceback (most recent call last)",
      "\u001b[1;32mc:\\Users\\edmun\\anaconda3\\envs\\mlStocks\\ML-StockAnalisys\\twitterCrawler\\twitter-checkpoint.ipynb Cell 12\u001b[0m line \u001b[0;36m2\n\u001b[0;32m      <a href='vscode-notebook-cell:/c%3A/Users/edmun/anaconda3/envs/mlStocks/ML-StockAnalisys/twitterCrawler/twitter-checkpoint.ipynb#X24sZmlsZQ%3D%3D?line=0'>1</a>\u001b[0m \u001b[39mif\u001b[39;00m \u001b[39m__name__\u001b[39m \u001b[39m==\u001b[39m \u001b[39m\"\u001b[39m\u001b[39m__main__\u001b[39m\u001b[39m\"\u001b[39m:\n\u001b[1;32m----> <a href='vscode-notebook-cell:/c%3A/Users/edmun/anaconda3/envs/mlStocks/ML-StockAnalisys/twitterCrawler/twitter-checkpoint.ipynb#X24sZmlsZQ%3D%3D?line=1'>2</a>\u001b[0m     main()\n",
      "\u001b[1;32mc:\\Users\\edmun\\anaconda3\\envs\\mlStocks\\ML-StockAnalisys\\twitterCrawler\\twitter-checkpoint.ipynb Cell 12\u001b[0m line \u001b[0;36m2\n\u001b[0;32m      <a href='vscode-notebook-cell:/c%3A/Users/edmun/anaconda3/envs/mlStocks/ML-StockAnalisys/twitterCrawler/twitter-checkpoint.ipynb#X24sZmlsZQ%3D%3D?line=0'>1</a>\u001b[0m \u001b[39mdef\u001b[39;00m \u001b[39mmain\u001b[39m():\n\u001b[1;32m----> <a href='vscode-notebook-cell:/c%3A/Users/edmun/anaconda3/envs/mlStocks/ML-StockAnalisys/twitterCrawler/twitter-checkpoint.ipynb#X24sZmlsZQ%3D%3D?line=1'>2</a>\u001b[0m     json_response \u001b[39m=\u001b[39m connect_to_endpoint(search_url, query_params)\n\u001b[0;32m      <a href='vscode-notebook-cell:/c%3A/Users/edmun/anaconda3/envs/mlStocks/ML-StockAnalisys/twitterCrawler/twitter-checkpoint.ipynb#X24sZmlsZQ%3D%3D?line=2'>3</a>\u001b[0m     \u001b[39mprint\u001b[39m(json\u001b[39m.\u001b[39mdumps(json_response, indent\u001b[39m=\u001b[39m\u001b[39m4\u001b[39m, sort_keys\u001b[39m=\u001b[39m\u001b[39mTrue\u001b[39;00m))\n",
      "\u001b[1;32mc:\\Users\\edmun\\anaconda3\\envs\\mlStocks\\ML-StockAnalisys\\twitterCrawler\\twitter-checkpoint.ipynb Cell 12\u001b[0m line \u001b[0;36m5\n\u001b[0;32m      <a href='vscode-notebook-cell:/c%3A/Users/edmun/anaconda3/envs/mlStocks/ML-StockAnalisys/twitterCrawler/twitter-checkpoint.ipynb#X24sZmlsZQ%3D%3D?line=2'>3</a>\u001b[0m \u001b[39mprint\u001b[39m(response\u001b[39m.\u001b[39mstatus_code)\n\u001b[0;32m      <a href='vscode-notebook-cell:/c%3A/Users/edmun/anaconda3/envs/mlStocks/ML-StockAnalisys/twitterCrawler/twitter-checkpoint.ipynb#X24sZmlsZQ%3D%3D?line=3'>4</a>\u001b[0m \u001b[39mif\u001b[39;00m response\u001b[39m.\u001b[39mstatus_code \u001b[39m!=\u001b[39m \u001b[39m200\u001b[39m:\n\u001b[1;32m----> <a href='vscode-notebook-cell:/c%3A/Users/edmun/anaconda3/envs/mlStocks/ML-StockAnalisys/twitterCrawler/twitter-checkpoint.ipynb#X24sZmlsZQ%3D%3D?line=4'>5</a>\u001b[0m     \u001b[39mraise\u001b[39;00m \u001b[39mException\u001b[39;00m(response\u001b[39m.\u001b[39mstatus_code, response\u001b[39m.\u001b[39mtext)\n\u001b[0;32m      <a href='vscode-notebook-cell:/c%3A/Users/edmun/anaconda3/envs/mlStocks/ML-StockAnalisys/twitterCrawler/twitter-checkpoint.ipynb#X24sZmlsZQ%3D%3D?line=5'>6</a>\u001b[0m \u001b[39mreturn\u001b[39;00m response\u001b[39m.\u001b[39mjson()\n",
      "\u001b[1;31mException\u001b[0m: (401, '{\\n  \"title\": \"Unauthorized\",\\n  \"type\": \"about:blank\",\\n  \"status\": 401,\\n  \"detail\": \"Unauthorized\"\\n}')"
     ]
    }
   ],
   "source": [
    "if __name__ == \"__main__\":\n",
    "    main()"
   ]
  },
  {
   "cell_type": "markdown",
   "metadata": {},
   "source": [
    "<hr>"
   ]
  },
  {
   "cell_type": "code",
   "execution_count": 15,
   "metadata": {},
   "outputs": [],
   "source": [
    "# Definir a consulta de pesquisa\n",
    "query = \"vale3\""
   ]
  },
  {
   "cell_type": "code",
   "execution_count": 16,
   "metadata": {},
   "outputs": [],
   "source": [
    "# Definir o intervalo de datas\n",
    "start_date = \"2023-11-05\"\n",
    "end_date = \"2023-11-11\""
   ]
  },
  {
   "cell_type": "code",
   "execution_count": 17,
   "metadata": {},
   "outputs": [
    {
     "name": "stdout",
     "output_type": "stream",
     "text": [
      "Erro: 401\n"
     ]
    }
   ],
   "source": [
    "# Realizar a consulta\n",
    "url = \"https://api.twitter.com/2/tweets/search/recent\"\n",
    "params = {\n",
    "    \"query\": query,\n",
    "    \"start_time\": start_date,\n",
    "    \"end_time\": end_date,\n",
    "    \"max_results\": 100,\n",
    "}\n",
    "headers = {\n",
    "    \"Authorization\": f\"Bearer {access_token}\",\n",
    "}\n",
    "response = requests.get(url, headers=headers, params=params)\n",
    "\n",
    "# Verificar o status da resposta\n",
    "if response.status_code == 200:\n",
    "    # Decodificar a resposta\n",
    "    response_json = json.loads(response.content)\n",
    "\n",
    "    # Extrair as informações desejadas\n",
    "    tweets = response_json[\"data\"]\n",
    "    for tweet in tweets:\n",
    "        # Imprimir o texto do tweet\n",
    "        print(tweet[\"text\"])\n",
    "\n",
    "else:\n",
    "    print(f\"Erro: {response.status_code}\")"
   ]
  },
  {
   "cell_type": "markdown",
   "metadata": {},
   "source": [
    "<p> The search/tweets endpoint which let you search for Tweets from the last seven days </p>\n",
    "<hr>"
   ]
  },
  {
   "cell_type": "code",
   "execution_count": null,
   "metadata": {},
   "outputs": [],
   "source": [
    "\n",
    "# the search/tweets endpoint which let you search for Tweets from the last seven days\n",
    "\n",
    "\n",
    "def analisar_sentimento(tweet):\n",
    "    analysis = TextBlob(tweet.text)\n",
    "    if analysis.sentiment.polarity > 0:\n",
    "        return 'Positivo'\n",
    "    elif analysis.sentiment.polarity == 0:\n",
    "        return 'Neutro'\n",
    "    else:\n",
    "        return 'Negativo'\n",
    "\n",
    "# Coletar tweets\n",
    "tweets = api.search_tweets(q=\"VALE3\", lang=\"pt\", count=100)\n",
    "\n",
    "# Analisar sentimentos dos tweets\n",
    "for tweet in tweets:\n",
    "    print(f'Tweet: {tweet.text}\\nSentimento: {analisar_sentimento(tweet)}\\n')"
   ]
  },
  {
   "cell_type": "markdown",
   "metadata": {},
   "source": [
    "<p> 3 tentativa </p>\n",
    "<hr>"
   ]
  },
  {
   "cell_type": "code",
   "execution_count": 25,
   "metadata": {},
   "outputs": [],
   "source": [
    "from requests_oauthlib import OAuth1Session\n",
    "import os\n",
    "import json\n"
   ]
  },
  {
   "cell_type": "code",
   "execution_count": 26,
   "metadata": {},
   "outputs": [],
   "source": [
    "# #########################################################################\n",
    "#               API Key e API Secret Key \n",
    "############################################################################\n",
    "CONSUMER_KEY = 'jd6Du8Nr80i1UZNXxlweUBe5Q'\n",
    "CONSUMER_SECRET = 'TDt3yAORrIec1XPXXhIdwykPonwXHVr9oNOCpqSpquNPNQECt2'\n",
    "\n",
    "################################################################################\n",
    "# Bearer Token\n",
    "#AAAAAAAAAAAAAAAAAAAAACfrwAAAAAAAi2B8wQy4Jc3nf911pFIjLFaEzgU%3DMNVefI3Bq9CXQqzSOb5RejGkpfQ4h9exOmkjWxeme2iNRMXLKM\n",
    "\n",
    "BEARER_TOKEN = 'AAAAAAAAAAAAAAAAAAAAACfrwAAAAAAAi2B8wQy4Jc3nf911pFIjLFaEzgU%3DMNVefI3Bq9CXQqzSOb5RejGkpfQ4h9exOmkjWxeme2iNRMXLKM'\n",
    "\n",
    "# #########################################################################\n",
    "#               Access Token and Access Token Secret\n",
    "############################################################################\n",
    "access_token = '389141505-F0q5bGkIrqWlKYKngI5jWSTyCVD3RUyiuwjh6HmB'\n",
    "access_token_secret = 'C6CirffqFpt8E1EWTmWcPa9IqNJO9zLZYGT6vuWFOo3Sv'\n",
    "\n",
    "# #########################################################################\n",
    "#               User ID\n",
    "############################################################################\n",
    "\n",
    "auth = tweepy.OAuthHandler(API_Key, consumer_secret)\n",
    "auth.set_access_token(access_token, access_token_secret)\n",
    "\n",
    "api = tweepy.API(auth)\n",
    "\n"
   ]
  },
  {
   "cell_type": "code",
   "execution_count": 27,
   "metadata": {},
   "outputs": [],
   "source": [
    "consumer_key = os.environ.get(\"CONSUMER_KEY\")\n",
    "consumer_secret = os.environ.get(\"CONSUMER_SECRET\")"
   ]
  },
  {
   "cell_type": "code",
   "execution_count": null,
   "metadata": {},
   "outputs": [],
   "source": []
  }
 ],
 "metadata": {
  "kernelspec": {
   "display_name": "Python 3 (ipykernel)",
   "language": "python",
   "name": "python3"
  },
  "language_info": {
   "codemirror_mode": {
    "name": "ipython",
    "version": 3
   },
   "file_extension": ".py",
   "mimetype": "text/x-python",
   "name": "python",
   "nbconvert_exporter": "python",
   "pygments_lexer": "ipython3",
   "version": "3.11.5"
  }
 },
 "nbformat": 4,
 "nbformat_minor": 5
}
