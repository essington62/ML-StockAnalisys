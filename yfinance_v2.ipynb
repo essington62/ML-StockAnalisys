{
 "cells": [
  {
   "cell_type": "code",
   "execution_count": 2,
   "metadata": {},
   "outputs": [],
   "source": [
    "import pandas as pd\n",
    "import yfinance as yf"
   ]
  },
  {
   "cell_type": "code",
   "execution_count": 50,
   "metadata": {},
   "outputs": [],
   "source": [
    "vale3 = yf.Ticker(\"vale3.sa\")"
   ]
  },
  {
   "cell_type": "code",
   "execution_count": 51,
   "metadata": {},
   "outputs": [],
   "source": [
    "\n",
    "# get historical market data\n",
    "hist = vale3.history(period=\"max\")"
   ]
  },
  {
   "cell_type": "code",
   "execution_count": 53,
   "metadata": {},
   "outputs": [
    {
     "name": "stdout",
     "output_type": "stream",
     "text": [
      "<class 'pandas.core.frame.DataFrame'>\n",
      "DatetimeIndex: 5988 entries, 2000-01-03 00:00:00-02:00 to 2023-11-01 00:00:00-03:00\n",
      "Data columns (total 7 columns):\n",
      " #   Column        Non-Null Count  Dtype  \n",
      "---  ------        --------------  -----  \n",
      " 0   Open          5988 non-null   float64\n",
      " 1   High          5988 non-null   float64\n",
      " 2   Low           5988 non-null   float64\n",
      " 3   Close         5988 non-null   float64\n",
      " 4   Volume        5988 non-null   int64  \n",
      " 5   Dividends     5988 non-null   float64\n",
      " 6   Stock Splits  5988 non-null   float64\n",
      "dtypes: float64(6), int64(1)\n",
      "memory usage: 374.2 KB\n"
     ]
    }
   ],
   "source": [
    "vale = hist\n",
    "vale.info()"
   ]
  },
  {
   "cell_type": "code",
   "execution_count": null,
   "metadata": {},
   "outputs": [],
   "source": []
  },
  {
   "cell_type": "code",
   "execution_count": 48,
   "metadata": {},
   "outputs": [
    {
     "data": {
      "text/plain": [
       "{'currency': 'BRL',\n",
       " 'symbol': 'VALE3.SA',\n",
       " 'exchangeName': 'SAO',\n",
       " 'instrumentType': 'EQUITY',\n",
       " 'firstTradeDate': 946900800,\n",
       " 'regularMarketTime': 1698869274,\n",
       " 'gmtoffset': -10800,\n",
       " 'timezone': 'BRT',\n",
       " 'exchangeTimezoneName': 'America/Sao_Paulo',\n",
       " 'regularMarketPrice': 70.32,\n",
       " 'chartPreviousClose': 3.5,\n",
       " 'priceHint': 2,\n",
       " 'currentTradingPeriod': {'pre': {'timezone': 'BRT',\n",
       "   'start': 1698842700,\n",
       "   'end': 1698843600,\n",
       "   'gmtoffset': -10800},\n",
       "  'regular': {'timezone': 'BRT',\n",
       "   'start': 1698843600,\n",
       "   'end': 1698868800,\n",
       "   'gmtoffset': -10800},\n",
       "  'post': {'timezone': 'BRT',\n",
       "   'start': 1698868800,\n",
       "   'end': 1698872400,\n",
       "   'gmtoffset': -10800}},\n",
       " 'dataGranularity': '1d',\n",
       " 'range': '',\n",
       " 'validRanges': ['1d',\n",
       "  '5d',\n",
       "  '1mo',\n",
       "  '3mo',\n",
       "  '6mo',\n",
       "  '1y',\n",
       "  '2y',\n",
       "  '5y',\n",
       "  '10y',\n",
       "  'ytd',\n",
       "  'max']}"
      ]
     },
     "execution_count": 48,
     "metadata": {},
     "output_type": "execute_result"
    }
   ],
   "source": [
    "# show meta information about the history (requires history() to be called first)\n",
    "vale3.history_metadata"
   ]
  },
  {
   "cell_type": "code",
   "execution_count": 8,
   "metadata": {},
   "outputs": [],
   "source": [
    "income = vale3.income_stmt"
   ]
  },
  {
   "cell_type": "code",
   "execution_count": 11,
   "metadata": {},
   "outputs": [
    {
     "name": "stdout",
     "output_type": "stream",
     "text": [
      "<class 'pandas.core.frame.DataFrame'>\n",
      "Index: 57 entries, Tax Effect Of Unusual Items to Operating Revenue\n",
      "Data columns (total 4 columns):\n",
      " #   Column               Non-Null Count  Dtype \n",
      "---  ------               --------------  ----- \n",
      " 0   2022-12-31 00:00:00  56 non-null     object\n",
      " 1   2021-12-31 00:00:00  55 non-null     object\n",
      " 2   2020-12-31 00:00:00  57 non-null     object\n",
      " 3   2019-12-31 00:00:00  57 non-null     object\n",
      "dtypes: object(4)\n",
      "memory usage: 2.2+ KB\n"
     ]
    }
   ],
   "source": [
    "income.info()"
   ]
  },
  {
   "cell_type": "code",
   "execution_count": null,
   "metadata": {},
   "outputs": [],
   "source": [
    "income"
   ]
  },
  {
   "cell_type": "code",
   "execution_count": 13,
   "metadata": {},
   "outputs": [],
   "source": [
    "income.to_csv('income.csv')"
   ]
  },
  {
   "cell_type": "code",
   "execution_count": 28,
   "metadata": {},
   "outputs": [
    {
     "data": {
      "text/plain": [
       "23846000000.0"
      ]
     },
     "execution_count": 28,
     "metadata": {},
     "output_type": "execute_result"
    }
   ],
   "source": [
    "income['2022-12-31']['EBITDA']"
   ]
  },
  {
   "cell_type": "code",
   "execution_count": null,
   "metadata": {},
   "outputs": [],
   "source": [
    "value = income.loc[income['2022-12-31']]"
   ]
  },
  {
   "cell_type": "code",
   "execution_count": 43,
   "metadata": {},
   "outputs": [],
   "source": [
    "# funcao para extrair informacoes do income\n",
    "def extract_financial_info(year, column_name, dataframe):\n",
    "    \"\"\"\n",
    "    Função para extrair informações financeiras de um DataFrame com base no ano e no nome da coluna.\n",
    "    \n",
    "    Parâmetros:\n",
    "    - year (str): Ano para o qual a informação deve ser extraída.\n",
    "    - column_name (str): Nome da coluna (informação financeira) que se deseja extrair.\n",
    "    - dataframe (pd.DataFrame): DataFrame contendo os dados financeiros.\n",
    "    \n",
    "    Retorna:\n",
    "    - Valor da informação financeira para o ano especificado.\n",
    "    \"\"\"\n",
    "    try:\n",
    "        value = income[year][column_name]\n",
    "        return value\n",
    "    except KeyError:\n",
    "        return f'Informação {column_name} para o ano {year} não encontrada.'\n",
    "    except Exception as e:\n",
    "        return f'Erro ao extrair informação: {e}'\n"
   ]
  },
  {
   "cell_type": "code",
   "execution_count": 44,
   "metadata": {},
   "outputs": [
    {
     "data": {
      "text/plain": [
       "181000000.0"
      ]
     },
     "execution_count": 44,
     "metadata": {},
     "output_type": "execute_result"
    }
   ],
   "source": [
    "value = extract_financial_info('2022-12-31', 'Other Gand A', income)\n",
    "value"
   ]
  },
  {
   "cell_type": "code",
   "execution_count": 47,
   "metadata": {},
   "outputs": [
    {
     "data": {
      "text/html": [
       "<div>\n",
       "<style scoped>\n",
       "    .dataframe tbody tr th:only-of-type {\n",
       "        vertical-align: middle;\n",
       "    }\n",
       "\n",
       "    .dataframe tbody tr th {\n",
       "        vertical-align: top;\n",
       "    }\n",
       "\n",
       "    .dataframe thead th {\n",
       "        text-align: right;\n",
       "    }\n",
       "</style>\n",
       "<table border=\"1\" class=\"dataframe\">\n",
       "  <thead>\n",
       "    <tr style=\"text-align: right;\">\n",
       "      <th></th>\n",
       "      <th>2022-12-31</th>\n",
       "      <th>2021-12-31</th>\n",
       "      <th>2020-12-31</th>\n",
       "      <th>2019-12-31</th>\n",
       "    </tr>\n",
       "  </thead>\n",
       "  <tbody>\n",
       "    <tr>\n",
       "      <th>Treasury Shares Number</th>\n",
       "      <td>295810551.0</td>\n",
       "      <td>292841474.0</td>\n",
       "      <td>154563828.0</td>\n",
       "      <td>156192313.0</td>\n",
       "    </tr>\n",
       "    <tr>\n",
       "      <th>Ordinary Shares Number</th>\n",
       "      <td>4483078700.0</td>\n",
       "      <td>4839616924.0</td>\n",
       "      <td>5129910942.0</td>\n",
       "      <td>5128282457.0</td>\n",
       "    </tr>\n",
       "    <tr>\n",
       "      <th>Share Issued</th>\n",
       "      <td>4778889251.0</td>\n",
       "      <td>5132458398.0</td>\n",
       "      <td>5284474770.0</td>\n",
       "      <td>5284474770.0</td>\n",
       "    </tr>\n",
       "    <tr>\n",
       "      <th>Net Debt</th>\n",
       "      <td>10701000000.0</td>\n",
       "      <td>5480000000.0</td>\n",
       "      <td>6621000000.0</td>\n",
       "      <td>10226000000.0</td>\n",
       "    </tr>\n",
       "    <tr>\n",
       "      <th>Total Debt</th>\n",
       "      <td>15437000000.0</td>\n",
       "      <td>17201000000.0</td>\n",
       "      <td>20108000000.0</td>\n",
       "      <td>19367000000.0</td>\n",
       "    </tr>\n",
       "    <tr>\n",
       "      <th>Tangible Book Value</th>\n",
       "      <td>25629000000.0</td>\n",
       "      <td>25461000000.0</td>\n",
       "      <td>26448000000.0</td>\n",
       "      <td>31568000000.0</td>\n",
       "    </tr>\n",
       "    <tr>\n",
       "      <th>Invested Capital</th>\n",
       "      <td>51304000000.0</td>\n",
       "      <td>51673000000.0</td>\n",
       "      <td>55852000000.0</td>\n",
       "      <td>57643000000.0</td>\n",
       "    </tr>\n",
       "    <tr>\n",
       "      <th>Working Capital</th>\n",
       "      <td>1635000000.0</td>\n",
       "      <td>7162000000.0</td>\n",
       "      <td>9809000000.0</td>\n",
       "      <td>3197000000.0</td>\n",
       "    </tr>\n",
       "    <tr>\n",
       "      <th>Net Tangible Assets</th>\n",
       "      <td>25629000000.0</td>\n",
       "      <td>25461000000.0</td>\n",
       "      <td>26448000000.0</td>\n",
       "      <td>31568000000.0</td>\n",
       "    </tr>\n",
       "    <tr>\n",
       "      <th>Capital Lease Obligations</th>\n",
       "      <td>1531000000.0</td>\n",
       "      <td>1602000000.0</td>\n",
       "      <td>NaN</td>\n",
       "      <td>1791000000.0</td>\n",
       "    </tr>\n",
       "  </tbody>\n",
       "</table>\n",
       "</div>"
      ],
      "text/plain": [
       "                              2022-12-31     2021-12-31     2020-12-31  \\\n",
       "Treasury Shares Number       295810551.0    292841474.0    154563828.0   \n",
       "Ordinary Shares Number      4483078700.0   4839616924.0   5129910942.0   \n",
       "Share Issued                4778889251.0   5132458398.0   5284474770.0   \n",
       "Net Debt                   10701000000.0   5480000000.0   6621000000.0   \n",
       "Total Debt                 15437000000.0  17201000000.0  20108000000.0   \n",
       "Tangible Book Value        25629000000.0  25461000000.0  26448000000.0   \n",
       "Invested Capital           51304000000.0  51673000000.0  55852000000.0   \n",
       "Working Capital             1635000000.0   7162000000.0   9809000000.0   \n",
       "Net Tangible Assets        25629000000.0  25461000000.0  26448000000.0   \n",
       "Capital Lease Obligations   1531000000.0   1602000000.0            NaN   \n",
       "\n",
       "                              2019-12-31  \n",
       "Treasury Shares Number       156192313.0  \n",
       "Ordinary Shares Number      5128282457.0  \n",
       "Share Issued                5284474770.0  \n",
       "Net Debt                   10226000000.0  \n",
       "Total Debt                 19367000000.0  \n",
       "Tangible Book Value        31568000000.0  \n",
       "Invested Capital           57643000000.0  \n",
       "Working Capital             3197000000.0  \n",
       "Net Tangible Assets        31568000000.0  \n",
       "Capital Lease Obligations   1791000000.0  "
      ]
     },
     "execution_count": 47,
     "metadata": {},
     "output_type": "execute_result"
    }
   ],
   "source": [
    "# Extraindo informacoes do balanço\n",
    "balance = vale.balance_sheet\n",
    "balance.head(10)"
   ]
  },
  {
   "cell_type": "code",
   "execution_count": null,
   "metadata": {},
   "outputs": [],
   "source": [
    "vale.cashflow"
   ]
  },
  {
   "cell_type": "code",
   "execution_count": 31,
   "metadata": {},
   "outputs": [],
   "source": [
    "symbol = 'vale3.sa'"
   ]
  },
  {
   "cell_type": "code",
   "execution_count": 32,
   "metadata": {},
   "outputs": [
    {
     "name": "stdout",
     "output_type": "stream",
     "text": [
      "[*********************100%%**********************]  1 of 1 completed\n"
     ]
    }
   ],
   "source": [
    "df = yf.download(symbol, start, end)"
   ]
  },
  {
   "cell_type": "code",
   "execution_count": 41,
   "metadata": {},
   "outputs": [
    {
     "name": "stdout",
     "output_type": "stream",
     "text": [
      "<class 'pandas.core.frame.DataFrame'>\n",
      "DatetimeIndex: 1653 entries, 2014-10-01 to 2021-05-28\n",
      "Data columns (total 6 columns):\n",
      " #   Column     Non-Null Count  Dtype  \n",
      "---  ------     --------------  -----  \n",
      " 0   Open       1653 non-null   float64\n",
      " 1   High       1653 non-null   float64\n",
      " 2   Low        1653 non-null   float64\n",
      " 3   Close      1653 non-null   float64\n",
      " 4   Adj Close  1653 non-null   float64\n",
      " 5   Volume     1653 non-null   int64  \n",
      "dtypes: float64(5), int64(1)\n",
      "memory usage: 90.4 KB\n"
     ]
    }
   ],
   "source": [
    "df.info()"
   ]
  },
  {
   "cell_type": "code",
   "execution_count": 49,
   "metadata": {},
   "outputs": [],
   "source": [
    "del df['Open']\n",
    "del df['High']\n",
    "del df['Low']\n",
    "del df['Adj Close']\n",
    "\n",
    "\n",
    " "
   ]
  },
  {
   "cell_type": "code",
   "execution_count": 51,
   "metadata": {},
   "outputs": [
    {
     "name": "stdout",
     "output_type": "stream",
     "text": [
      "<class 'pandas.core.frame.DataFrame'>\n",
      "DatetimeIndex: 1653 entries, 2014-10-01 to 2021-05-28\n",
      "Data columns (total 2 columns):\n",
      " #   Column  Non-Null Count  Dtype  \n",
      "---  ------  --------------  -----  \n",
      " 0   Close   1653 non-null   float64\n",
      " 1   Volume  1653 non-null   int64  \n",
      "dtypes: float64(1), int64(1)\n",
      "memory usage: 38.7 KB\n"
     ]
    }
   ],
   "source": [
    "#Porcentagem nwgativa da mudanca de precos\n",
    "df.info()"
   ]
  },
  {
   "cell_type": "code",
   "execution_count": null,
   "metadata": {},
   "outputs": [],
   "source": [
    "# show meta information about the history (requires history() to be called first)\n",
    "msft.history_metadata"
   ]
  },
  {
   "cell_type": "code",
   "execution_count": 45,
   "metadata": {},
   "outputs": [
    {
     "ename": "ValueError",
     "evalue": "Cannot set a DataFrame with multiple columns to the single column yesterday",
     "output_type": "error",
     "traceback": [
      "\u001b[1;31m---------------------------------------------------------------------------\u001b[0m",
      "\u001b[1;31mValueError\u001b[0m                                Traceback (most recent call last)",
      "\u001b[1;32m~\\AppData\\Local\\Temp\\ipykernel_13080\\57321813.py\u001b[0m in \u001b[0;36m?\u001b[1;34m()\u001b[0m\n\u001b[1;32m----> 1\u001b[1;33m \u001b[0mdf\u001b[0m\u001b[1;33m[\u001b[0m\u001b[1;34m'yesterday'\u001b[0m\u001b[1;33m]\u001b[0m \u001b[1;33m=\u001b[0m \u001b[0mdf\u001b[0m\u001b[1;33m.\u001b[0m\u001b[0mshift\u001b[0m\u001b[1;33m(\u001b[0m\u001b[0mperiods\u001b[0m \u001b[1;33m=\u001b[0m \u001b[1;36m1\u001b[0m\u001b[1;33m)\u001b[0m\u001b[1;33m\u001b[0m\u001b[1;33m\u001b[0m\u001b[0m\n\u001b[0m",
      "\u001b[1;32mc:\\Users\\edmun\\anaconda3\\envs\\mlStocks\\lib\\site-packages\\pandas\\core\\frame.py\u001b[0m in \u001b[0;36m?\u001b[1;34m(self, key, value)\u001b[0m\n\u001b[0;32m   3966\u001b[0m             \u001b[0mself\u001b[0m\u001b[1;33m.\u001b[0m\u001b[0m_setitem_frame\u001b[0m\u001b[1;33m(\u001b[0m\u001b[0mkey\u001b[0m\u001b[1;33m,\u001b[0m \u001b[0mvalue\u001b[0m\u001b[1;33m)\u001b[0m\u001b[1;33m\u001b[0m\u001b[1;33m\u001b[0m\u001b[0m\n\u001b[0;32m   3967\u001b[0m         \u001b[1;32melif\u001b[0m \u001b[0misinstance\u001b[0m\u001b[1;33m(\u001b[0m\u001b[0mkey\u001b[0m\u001b[1;33m,\u001b[0m \u001b[1;33m(\u001b[0m\u001b[0mSeries\u001b[0m\u001b[1;33m,\u001b[0m \u001b[0mnp\u001b[0m\u001b[1;33m.\u001b[0m\u001b[0mndarray\u001b[0m\u001b[1;33m,\u001b[0m \u001b[0mlist\u001b[0m\u001b[1;33m,\u001b[0m \u001b[0mIndex\u001b[0m\u001b[1;33m)\u001b[0m\u001b[1;33m)\u001b[0m\u001b[1;33m:\u001b[0m\u001b[1;33m\u001b[0m\u001b[1;33m\u001b[0m\u001b[0m\n\u001b[0;32m   3968\u001b[0m             \u001b[0mself\u001b[0m\u001b[1;33m.\u001b[0m\u001b[0m_setitem_array\u001b[0m\u001b[1;33m(\u001b[0m\u001b[0mkey\u001b[0m\u001b[1;33m,\u001b[0m \u001b[0mvalue\u001b[0m\u001b[1;33m)\u001b[0m\u001b[1;33m\u001b[0m\u001b[1;33m\u001b[0m\u001b[0m\n\u001b[0;32m   3969\u001b[0m         \u001b[1;32melif\u001b[0m \u001b[0misinstance\u001b[0m\u001b[1;33m(\u001b[0m\u001b[0mvalue\u001b[0m\u001b[1;33m,\u001b[0m \u001b[0mDataFrame\u001b[0m\u001b[1;33m)\u001b[0m\u001b[1;33m:\u001b[0m\u001b[1;33m\u001b[0m\u001b[1;33m\u001b[0m\u001b[0m\n\u001b[1;32m-> 3970\u001b[1;33m             \u001b[0mself\u001b[0m\u001b[1;33m.\u001b[0m\u001b[0m_set_item_frame_value\u001b[0m\u001b[1;33m(\u001b[0m\u001b[0mkey\u001b[0m\u001b[1;33m,\u001b[0m \u001b[0mvalue\u001b[0m\u001b[1;33m)\u001b[0m\u001b[1;33m\u001b[0m\u001b[1;33m\u001b[0m\u001b[0m\n\u001b[0m\u001b[0;32m   3971\u001b[0m         elif (\n\u001b[0;32m   3972\u001b[0m             \u001b[0mis_list_like\u001b[0m\u001b[1;33m(\u001b[0m\u001b[0mvalue\u001b[0m\u001b[1;33m)\u001b[0m\u001b[1;33m\u001b[0m\u001b[1;33m\u001b[0m\u001b[0m\n\u001b[0;32m   3973\u001b[0m             \u001b[1;32mand\u001b[0m \u001b[1;32mnot\u001b[0m \u001b[0mself\u001b[0m\u001b[1;33m.\u001b[0m\u001b[0mcolumns\u001b[0m\u001b[1;33m.\u001b[0m\u001b[0mis_unique\u001b[0m\u001b[1;33m\u001b[0m\u001b[1;33m\u001b[0m\u001b[0m\n",
      "\u001b[1;32mc:\\Users\\edmun\\anaconda3\\envs\\mlStocks\\lib\\site-packages\\pandas\\core\\frame.py\u001b[0m in \u001b[0;36m?\u001b[1;34m(self, key, value)\u001b[0m\n\u001b[0;32m   4121\u001b[0m             \u001b[0mself\u001b[0m\u001b[1;33m.\u001b[0m\u001b[0m_set_item_mgr\u001b[0m\u001b[1;33m(\u001b[0m\u001b[0mkey\u001b[0m\u001b[1;33m,\u001b[0m \u001b[0marraylike\u001b[0m\u001b[1;33m)\u001b[0m\u001b[1;33m\u001b[0m\u001b[1;33m\u001b[0m\u001b[0m\n\u001b[0;32m   4122\u001b[0m             \u001b[1;32mreturn\u001b[0m\u001b[1;33m\u001b[0m\u001b[1;33m\u001b[0m\u001b[0m\n\u001b[0;32m   4123\u001b[0m \u001b[1;33m\u001b[0m\u001b[0m\n\u001b[0;32m   4124\u001b[0m         \u001b[1;32mif\u001b[0m \u001b[0mlen\u001b[0m\u001b[1;33m(\u001b[0m\u001b[0mvalue\u001b[0m\u001b[1;33m.\u001b[0m\u001b[0mcolumns\u001b[0m\u001b[1;33m)\u001b[0m \u001b[1;33m!=\u001b[0m \u001b[1;36m1\u001b[0m\u001b[1;33m:\u001b[0m\u001b[1;33m\u001b[0m\u001b[1;33m\u001b[0m\u001b[0m\n\u001b[1;32m-> 4125\u001b[1;33m             raise ValueError(\n\u001b[0m\u001b[0;32m   4126\u001b[0m                 \u001b[1;34m\"Cannot set a DataFrame with multiple columns to the single \"\u001b[0m\u001b[1;33m\u001b[0m\u001b[1;33m\u001b[0m\u001b[0m\n\u001b[0;32m   4127\u001b[0m                 \u001b[1;34mf\"column {key}\"\u001b[0m\u001b[1;33m\u001b[0m\u001b[1;33m\u001b[0m\u001b[0m\n\u001b[0;32m   4128\u001b[0m             )\n",
      "\u001b[1;31mValueError\u001b[0m: Cannot set a DataFrame with multiple columns to the single column yesterday"
     ]
    }
   ],
   "source": [
    "df['yesterday'] = df.shift(periods = 1)"
   ]
  }
 ],
 "metadata": {
  "kernelspec": {
   "display_name": "mlStocks",
   "language": "python",
   "name": "python3"
  },
  "language_info": {
   "codemirror_mode": {
    "name": "ipython",
    "version": 3
   },
   "file_extension": ".py",
   "mimetype": "text/x-python",
   "name": "python",
   "nbconvert_exporter": "python",
   "pygments_lexer": "ipython3",
   "version": "3.11.5"
  }
 },
 "nbformat": 4,
 "nbformat_minor": 2
}
