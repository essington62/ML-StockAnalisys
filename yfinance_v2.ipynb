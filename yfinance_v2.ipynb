{
 "cells": [
  {
   "cell_type": "code",
   "execution_count": 3,
   "metadata": {
    "tags": []
   },
   "outputs": [],
   "source": [
    "import pandas as pd\n",
    "import yfinance as yf"
   ]
  },
  {
   "cell_type": "code",
   "execution_count": null,
   "metadata": {
    "tags": []
   },
   "outputs": [],
   "source": [
    "#!pip install amazon_codeguru_jupyterlab_extension\n"
   ]
  },
  {
   "cell_type": "code",
   "execution_count": null,
   "metadata": {},
   "outputs": [],
   "source": [
    "# Lendo o arquivo gerado com as informações consolidadas\n",
    "EBITDA\n"
   ]
  },
  {
   "cell_type": "code",
   "execution_count": null,
   "metadata": {},
   "outputs": [],
   "source": [
    "df[''] = df.groupby(df['data'].dt.to_period('M'))['vendas'].transform('mean')\n",
    "df"
   ]
  },
  {
   "cell_type": "code",
   "execution_count": null,
   "metadata": {},
   "outputs": [],
   "source": [
    "vale3 = yf.Ticker(\"vale3.sa\")"
   ]
  },
  {
   "cell_type": "code",
   "execution_count": null,
   "metadata": {},
   "outputs": [],
   "source": [
    "\n",
    "# get historical market data\n",
    "hist = vale3.history(period=\"max\")"
   ]
  },
  {
   "cell_type": "code",
   "execution_count": null,
   "metadata": {},
   "outputs": [],
   "source": [
    "vale = hist\n",
    "vale.info()\n"
   ]
  },
  {
   "cell_type": "code",
   "execution_count": null,
   "metadata": {},
   "outputs": [],
   "source": [
    "# show meta information about the history (requires history() to be called first)\n",
    "vale3.history_metadata"
   ]
  },
  {
   "cell_type": "code",
   "execution_count": null,
   "metadata": {},
   "outputs": [],
   "source": [
    "income = vale3.income_stmt"
   ]
  },
  {
   "cell_type": "code",
   "execution_count": null,
   "metadata": {},
   "outputs": [],
   "source": [
    "income.info()"
   ]
  },
  {
   "cell_type": "code",
   "execution_count": null,
   "metadata": {},
   "outputs": [],
   "source": [
    "income"
   ]
  },
  {
   "cell_type": "code",
   "execution_count": null,
   "metadata": {},
   "outputs": [],
   "source": [
    "#income.to_csv('income.csv')"
   ]
  },
  {
   "cell_type": "code",
   "execution_count": null,
   "metadata": {},
   "outputs": [],
   "source": [
    "income['2022-12-31']income['2022-12-31']"
   ]
  },
  {
   "cell_type": "code",
   "execution_count": null,
   "metadata": {
    "tags": []
   },
   "outputs": [],
   "source": [
    "income['2022-12-31']"
   ]
  },
  {
   "cell_type": "code",
   "execution_count": null,
   "metadata": {},
   "outputs": [],
   "source": [
    "EBITDA = income['2022-12-31']['EBITDA']\n",
    "EBITDA"
   ]
  },
  {
   "cell_type": "code",
   "execution_count": null,
   "metadata": {},
   "outputs": [],
   "source": [
    "# Criar a coluna 'Anual' com o primeiro valor de cada ano\n",
    "df['Anual'] = df.groupby(df.index.year)['Close'].transform('first')"
   ]
  },
  {
   "cell_type": "code",
   "execution_count": null,
   "metadata": {},
   "outputs": [],
   "source": [
    "# funcao para extrair informacoes do income\n",
    "def extract_financial_info(year, column_name, dataframe):\n",
    "    \"\"\"\n",
    "    Função para extrair informações financeiras de um DataFrame com base no ano e no nome da coluna.\n",
    "    \n",
    "    Parâmetros:\n",
    "    - year (str): Ano para o qual a informação deve ser extraída.\n",
    "    - column_name (str): Nome da coluna (informação financeira) que se deseja extrair.\n",
    "    - dataframe (pd.DataFrame): DataFrame contendo os dados financeiros.\n",
    "    \n",
    "    Retorna:\n",
    "    - Valor da informação financeira para o ano especificado.\n",
    "    \"\"\"\n",
    "    try:\n",
    "        value = income[year][column_name]\n",
    "        return value\n",
    "    except KeyError:\n",
    "        return f'Informação {column_name} para o ano {year} não encontrada.'\n",
    "    except Exception as e:\n",
    "        return f'Erro ao extrair informação: {e}'\n"
   ]
  },
  {
   "cell_type": "code",
   "execution_count": null,
   "metadata": {},
   "outputs": [],
   "source": [
    "EBITDA = extract_financial_info('2022-12-31', 'EBITDA', income)\n",
    "EBITDA"
   ]
  },
  {
   "cell_type": "code",
   "execution_count": null,
   "metadata": {},
   "outputs": [],
   "source": [
    "def inserir_income(df, EBITDA, valor, atualizar=False):\n",
    "  \"\"\"\n",
    "  Insere informações do balanço, que tem periodicidade anual, no arquivo da vale que .\n",
    "\n",
    "  Args:\n",
    "    df: O DataFrame no qual a coluna será inserida.\n",
    "    nome_coluna: O nome da coluna a ser inserida.\n",
    "    valor: O valor a ser inserido na coluna.\n",
    "    atualizar: Se True, o valor será atualizado na coluna se ela já existir. Se False, a coluna será criada se não existir.\n",
    "\n",
    "  Returns:\n",
    "    O DataFrame com a coluna inserida.\n",
    "  \"\"\"\n",
    "\n",
    "  # Verifica se a coluna já existe\n",
    "\n",
    "  if nome_coluna in df.columns:\n",
    "    # Atualiza o valor da coluna\n",
    "    if atualizar:\n",
    "      df[nome_coluna] = valor\n",
    "    else:\n",
    "      raise ValueError(f\"A coluna '{nome_coluna}' já existe. Use atualizar=True para atualizar o valor da coluna.\")\n",
    "  else:\n",
    "    # Cria a coluna\n",
    "    df[nome_coluna] = valor\n",
    "\n",
    "  return df"
   ]
  },
  {
   "cell_type": "code",
   "execution_count": null,
   "metadata": {},
   "outputs": [],
   "source": [
    "# Extraindo informacoes do balanço\n",
    "balance = vale.balance_sheet\n",
    "balance.head(10)"
   ]
  },
  {
   "cell_type": "code",
   "execution_count": null,
   "metadata": {},
   "outputs": [],
   "source": [
    "vale.cashflow"
   ]
  },
  {
   "cell_type": "code",
   "execution_count": null,
   "metadata": {},
   "outputs": [],
   "source": [
    "symbol = 'vale3.sa'"
   ]
  },
  {
   "cell_type": "code",
   "execution_count": null,
   "metadata": {},
   "outputs": [],
   "source": [
    "df = yf.download(symbol, start, end)"
   ]
  },
  {
   "cell_type": "code",
   "execution_count": null,
   "metadata": {},
   "outputs": [],
   "source": [
    "df.info()"
   ]
  },
  {
   "cell_type": "code",
   "execution_count": null,
   "metadata": {},
   "outputs": [],
   "source": [
    "del df['Open']\n",
    "del df['High']\n",
    "del df['Low']\n",
    "del df['Adj Close']\n",
    "\n",
    "\n",
    " "
   ]
  },
  {
   "cell_type": "code",
   "execution_count": 4,
   "metadata": {
    "tags": []
   },
   "outputs": [],
   "source": [
    "\n",
    "start = '2008-01-01'\n",
    "end = '2023-10-31'\n",
    "symbol = \"USDBRL=X\""
   ]
  },
  {
   "cell_type": "code",
   "execution_count": 5,
   "metadata": {},
   "outputs": [
    {
     "name": "stdout",
     "output_type": "stream",
     "text": [
      "[*********************100%%**********************]  1 of 1 completed\n"
     ]
    },
    {
     "data": {
      "text/html": [
       "<div>\n",
       "<style scoped>\n",
       "    .dataframe tbody tr th:only-of-type {\n",
       "        vertical-align: middle;\n",
       "    }\n",
       "\n",
       "    .dataframe tbody tr th {\n",
       "        vertical-align: top;\n",
       "    }\n",
       "\n",
       "    .dataframe thead th {\n",
       "        text-align: right;\n",
       "    }\n",
       "</style>\n",
       "<table border=\"1\" class=\"dataframe\">\n",
       "  <thead>\n",
       "    <tr style=\"text-align: right;\">\n",
       "      <th></th>\n",
       "      <th>Open</th>\n",
       "      <th>High</th>\n",
       "      <th>Low</th>\n",
       "      <th>Close</th>\n",
       "      <th>Adj Close</th>\n",
       "      <th>Volume</th>\n",
       "    </tr>\n",
       "    <tr>\n",
       "      <th>Date</th>\n",
       "      <th></th>\n",
       "      <th></th>\n",
       "      <th></th>\n",
       "      <th></th>\n",
       "      <th></th>\n",
       "      <th></th>\n",
       "    </tr>\n",
       "  </thead>\n",
       "  <tbody>\n",
       "    <tr>\n",
       "      <th>2008-01-01</th>\n",
       "      <td>1.76730</td>\n",
       "      <td>1.7673</td>\n",
       "      <td>1.767300</td>\n",
       "      <td>1.76730</td>\n",
       "      <td>1.76730</td>\n",
       "      <td>0</td>\n",
       "    </tr>\n",
       "    <tr>\n",
       "      <th>2008-01-02</th>\n",
       "      <td>1.77600</td>\n",
       "      <td>1.7822</td>\n",
       "      <td>1.756000</td>\n",
       "      <td>1.76450</td>\n",
       "      <td>1.76450</td>\n",
       "      <td>0</td>\n",
       "    </tr>\n",
       "    <tr>\n",
       "      <th>2008-01-03</th>\n",
       "      <td>1.76450</td>\n",
       "      <td>1.7684</td>\n",
       "      <td>1.748000</td>\n",
       "      <td>1.74800</td>\n",
       "      <td>1.74800</td>\n",
       "      <td>0</td>\n",
       "    </tr>\n",
       "    <tr>\n",
       "      <th>2008-01-04</th>\n",
       "      <td>1.74800</td>\n",
       "      <td>1.7665</td>\n",
       "      <td>1.739100</td>\n",
       "      <td>1.75720</td>\n",
       "      <td>1.75720</td>\n",
       "      <td>0</td>\n",
       "    </tr>\n",
       "    <tr>\n",
       "      <th>2008-01-07</th>\n",
       "      <td>1.76150</td>\n",
       "      <td>1.7777</td>\n",
       "      <td>1.745100</td>\n",
       "      <td>1.76400</td>\n",
       "      <td>1.76400</td>\n",
       "      <td>0</td>\n",
       "    </tr>\n",
       "    <tr>\n",
       "      <th>...</th>\n",
       "      <td>...</td>\n",
       "      <td>...</td>\n",
       "      <td>...</td>\n",
       "      <td>...</td>\n",
       "      <td>...</td>\n",
       "      <td>...</td>\n",
       "    </tr>\n",
       "    <tr>\n",
       "      <th>2023-10-24</th>\n",
       "      <td>5.01230</td>\n",
       "      <td>5.0261</td>\n",
       "      <td>4.971456</td>\n",
       "      <td>5.01230</td>\n",
       "      <td>5.01230</td>\n",
       "      <td>0</td>\n",
       "    </tr>\n",
       "    <tr>\n",
       "      <th>2023-10-25</th>\n",
       "      <td>4.99100</td>\n",
       "      <td>5.0165</td>\n",
       "      <td>4.985900</td>\n",
       "      <td>4.99100</td>\n",
       "      <td>4.99100</td>\n",
       "      <td>0</td>\n",
       "    </tr>\n",
       "    <tr>\n",
       "      <th>2023-10-26</th>\n",
       "      <td>4.99470</td>\n",
       "      <td>5.0148</td>\n",
       "      <td>4.986613</td>\n",
       "      <td>4.99470</td>\n",
       "      <td>4.99470</td>\n",
       "      <td>0</td>\n",
       "    </tr>\n",
       "    <tr>\n",
       "      <th>2023-10-27</th>\n",
       "      <td>4.98530</td>\n",
       "      <td>4.9874</td>\n",
       "      <td>4.930200</td>\n",
       "      <td>4.98530</td>\n",
       "      <td>4.98530</td>\n",
       "      <td>0</td>\n",
       "    </tr>\n",
       "    <tr>\n",
       "      <th>2023-10-30</th>\n",
       "      <td>4.95203</td>\n",
       "      <td>5.0478</td>\n",
       "      <td>4.952030</td>\n",
       "      <td>4.95203</td>\n",
       "      <td>4.95203</td>\n",
       "      <td>0</td>\n",
       "    </tr>\n",
       "  </tbody>\n",
       "</table>\n",
       "<p>4100 rows × 6 columns</p>\n",
       "</div>"
      ],
      "text/plain": [
       "               Open    High       Low    Close  Adj Close  Volume\n",
       "Date                                                             \n",
       "2008-01-01  1.76730  1.7673  1.767300  1.76730    1.76730       0\n",
       "2008-01-02  1.77600  1.7822  1.756000  1.76450    1.76450       0\n",
       "2008-01-03  1.76450  1.7684  1.748000  1.74800    1.74800       0\n",
       "2008-01-04  1.74800  1.7665  1.739100  1.75720    1.75720       0\n",
       "2008-01-07  1.76150  1.7777  1.745100  1.76400    1.76400       0\n",
       "...             ...     ...       ...      ...        ...     ...\n",
       "2023-10-24  5.01230  5.0261  4.971456  5.01230    5.01230       0\n",
       "2023-10-25  4.99100  5.0165  4.985900  4.99100    4.99100       0\n",
       "2023-10-26  4.99470  5.0148  4.986613  4.99470    4.99470       0\n",
       "2023-10-27  4.98530  4.9874  4.930200  4.98530    4.98530       0\n",
       "2023-10-30  4.95203  5.0478  4.952030  4.95203    4.95203       0\n",
       "\n",
       "[4100 rows x 6 columns]"
      ]
     },
     "execution_count": 5,
     "metadata": {},
     "output_type": "execute_result"
    }
   ],
   "source": [
    "# get historical market data\n",
    "dolar = yf.download(symbol, start, end)\n",
    "dolar"
   ]
  },
  {
   "cell_type": "code",
   "execution_count": null,
   "metadata": {},
   "outputs": [],
   "source": [
    "#extraindo cotacao do dolar\n",
    "dolar = yf.Ticker(\"USDBRL=X\")\n",
    "dolar.info()"
   ]
  },
  {
   "cell_type": "code",
   "execution_count": null,
   "metadata": {},
   "outputs": [],
   "source": [
    "# get historical market data\n",
    "usd = dolar.history(period=\"max\")"
   ]
  },
  {
   "cell_type": "code",
   "execution_count": null,
   "metadata": {},
   "outputs": [],
   "source": [
    "# show meta information about the history (requires history() to be called first)\n",
    "msft.history_metadata"
   ]
  },
  {
   "cell_type": "code",
   "execution_count": null,
   "metadata": {},
   "outputs": [],
   "source": [
    "df['yesterday'] = df.shift(periods = 1)"
   ]
  }
 ],
 "metadata": {
  "kernelspec": {
   "display_name": "Python 3 (ipykernel)",
   "language": "python",
   "name": "python3"
  },
  "language_info": {
   "codemirror_mode": {
    "name": "ipython",
    "version": 3
   },
   "file_extension": ".py",
   "mimetype": "text/x-python",
   "name": "python",
   "nbconvert_exporter": "python",
   "pygments_lexer": "ipython3",
   "version": "3.11.5"
  }
 },
 "nbformat": 4,
 "nbformat_minor": 4
}
